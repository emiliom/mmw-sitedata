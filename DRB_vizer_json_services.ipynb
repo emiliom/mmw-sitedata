{
 "cells": [
  {
   "cell_type": "markdown",
   "metadata": {},
   "source": [
    "# DRB Vizer json services\n",
    "10/30/2015. Emilio Mayorga.   \n",
    "Run with Emilio's \"IOOS_test1\" conda envioronment (recent versions of most packages)"
   ]
  },
  {
   "cell_type": "markdown",
   "metadata": {},
   "source": [
    "http://www.wikiwatershed-vs.org examples:\n",
    "- meta requests\n",
    "  - http://www.wikiwatershed-vs.org/services/get_asset_info.php?opt=meta&asset_type=siso\n",
    "  - http://www.wikiwatershed-vs.org/services/get_asset_info.php?opt=meta&asset_type=siso&asset_id=CRBCZO_WCC019\n",
    "- data & recent_values requests\n",
    "  - http://www.wikiwatershed-vs.org/services/get_asset_info.php?opt=data&asset_type=siso&asset_id=CRBCZO_WCC019&var_id=all&units_mode=v1\n",
    "  - http://www.wikiwatershed-vs.org/services/get_asset_info.php?opt=data&asset_type=siso&asset_id=CRBCZO_WCC019&var_id=H1_WaterTemp\n",
    "  - http://www.wikiwatershed-vs.org/services/get_asset_info.php?opt=recent_values&asset_type=siso&asset_id=CRBCZO_WCC019&var_id=H1_WaterTemp&units_mode=v2\n",
    "- plot request\n",
    "  - http://www.wikiwatershed-vs.org/services/get_asset_info.php?opt=plot&asset_type=siso&asset_id=USGS_01474500&var_id=H1_WaterTemp&range=30d&y_axis_mode=global"
   ]
  },
  {
   "cell_type": "markdown",
   "metadata": {},
   "source": [
    "## Import packages and set up utility functions"
   ]
  },
  {
   "cell_type": "code",
   "execution_count": 1,
   "metadata": {
    "collapsed": true
   },
   "outputs": [],
   "source": [
    "import json\n",
    "import requests\n",
    "import pandas as pd\n",
    "import seaborn as sns\n",
    "import matplotlib.pyplot as plt\n",
    "%matplotlib inline"
   ]
  },
  {
   "cell_type": "code",
   "execution_count": 2,
   "metadata": {
    "collapsed": true
   },
   "outputs": [],
   "source": [
    "import datetime\n",
    "import time\n",
    "import calendar\n",
    "import pytz\n",
    "#from matplotlib.dates import date2num, num2date\n",
    "\n",
    "utc_tz = pytz.utc\n",
    "\n",
    "def epochsec_to_dt(epochsec):\n",
    "    \"\"\" Return the datetime object for epoch seconds epochsec\n",
    "    \"\"\"\n",
    "    dtnaive_dt = datetime.datetime.utcfromtimestamp(epochsec)\n",
    "    dtutc_dt   = dtnaive_dt.replace(tzinfo=pytz.utc)\n",
    "    return dtutc_dt"
   ]
  },
  {
   "cell_type": "code",
   "execution_count": 3,
   "metadata": {
    "collapsed": true
   },
   "outputs": [],
   "source": [
    "def get_measurement_byvarid(metaresult, var_id):\n",
    "    return [e for e in metaresult['measurements'] if e['var_id'] == var_id][0]"
   ]
  },
  {
   "cell_type": "markdown",
   "metadata": {},
   "source": [
    "## Service end point\n",
    "For vizer instance that currently serves only the CRB and outlying areas, but will be expanded to the DRB to support the William Penn project needs."
   ]
  },
  {
   "cell_type": "code",
   "execution_count": 4,
   "metadata": {
    "collapsed": true
   },
   "outputs": [],
   "source": [
    "vz_gai_url = \"http://www.wikiwatershed-vs.org/services/get_asset_info.php\""
   ]
  },
  {
   "cell_type": "markdown",
   "metadata": {},
   "source": [
    "## Meta info (metadata) requests\n",
    "siso = \"stationary in-situ observations\" (eg, a river gage, weather stationg, moored buoy, etc)"
   ]
  },
  {
   "cell_type": "code",
   "execution_count": 5,
   "metadata": {
    "collapsed": true
   },
   "outputs": [],
   "source": [
    "meta_r = requests.get(vz_gai_url, params={'asset_type':'siso', 'opt':'meta'})\n",
    "meta = meta_r.json()"
   ]
  },
  {
   "cell_type": "code",
   "execution_count": 6,
   "metadata": {
    "collapsed": false
   },
   "outputs": [
    {
     "data": {
      "text/plain": [
       "([u'result', u'success'], True)"
      ]
     },
     "execution_count": 6,
     "metadata": {},
     "output_type": "execute_result"
    }
   ],
   "source": [
    "meta.keys(), meta['success']"
   ]
  },
  {
   "cell_type": "code",
   "execution_count": 7,
   "metadata": {
    "collapsed": false
   },
   "outputs": [
    {
     "data": {
      "text/plain": [
       "(list, 59)"
      ]
     },
     "execution_count": 7,
     "metadata": {},
     "output_type": "execute_result"
    }
   ],
   "source": [
    "type(meta['result']), len(meta['result'])"
   ]
  },
  {
   "cell_type": "code",
   "execution_count": 8,
   "metadata": {
    "collapsed": false
   },
   "outputs": [],
   "source": [
    "# siso_id is the unique identifier (string type) for the station\n",
    "siso_id_lst = [e['siso_id'] for e in meta['result']]"
   ]
  },
  {
   "cell_type": "code",
   "execution_count": 9,
   "metadata": {
    "collapsed": false
   },
   "outputs": [
    {
     "data": {
      "text/plain": [
       "u'CRBCZO_WCC019'"
      ]
     },
     "execution_count": 9,
     "metadata": {},
     "output_type": "execute_result"
    }
   ],
   "source": [
    "# Examine the response for the first station (index 0) in the returned list\n",
    "meta['result'][0]['siso_id']"
   ]
  },
  {
   "cell_type": "code",
   "execution_count": 10,
   "metadata": {
    "collapsed": false
   },
   "outputs": [
    {
     "data": {
      "text/plain": [
       "{u'data_timezone': u'US/Eastern',\n",
       " u'lat': 39.8588,\n",
       " u'lon': -75.7833,\n",
       " u'measurements': [{u'depth': u'0.0m',\n",
       "   u'name': u'Conductivity',\n",
       "   u'units': u'mS/cm',\n",
       "   u'var_id': u'H1_Conductiv'},\n",
       "  {u'depth': u'0.0m',\n",
       "   u'name': u'Turbidity',\n",
       "   u'units': u'NTU',\n",
       "   u'var_id': u'H1_Turbidity'},\n",
       "  {u'depth': u'0.0m',\n",
       "   u'name': u'Water Level',\n",
       "   u'units': u'cm',\n",
       "   u'var_id': u'H2_WaterLevel'},\n",
       "  {u'depth': u'0.0m',\n",
       "   u'name': u'Water Temp.',\n",
       "   u'units': u'\\xb0C',\n",
       "   u'var_id': u'H1_WaterTemp'}],\n",
       " u'name': u'CRBCZO_WCC019',\n",
       " u'platform_type': u'River Gauge',\n",
       " u'provider': u'CRBCZO',\n",
       " u'provider_url': u'https://criticalzone.org/christina/',\n",
       " u'siso_id': u'CRBCZO_WCC019',\n",
       " u'url': u'http://swrcsensors.dreamhosters.com/charts_main_SL031.php'}"
      ]
     },
     "execution_count": 10,
     "metadata": {},
     "output_type": "execute_result"
    }
   ],
   "source": [
    "meta['result'][0]"
   ]
  },
  {
   "cell_type": "markdown",
   "metadata": {},
   "source": [
    "### Examine all stations (siso assets) by first importing into a Pandas Dataframe"
   ]
  },
  {
   "cell_type": "code",
   "execution_count": 11,
   "metadata": {
    "collapsed": true
   },
   "outputs": [],
   "source": [
    "stations_rec = []\n",
    "for sta in meta['result']:\n",
    "    sta_rec = {key:sta[key] for key in ['siso_id', 'name', 'lat', 'lon', \n",
    "                                        'platform_type', 'provider']}\n",
    "    stations_rec.append(sta_rec)"
   ]
  },
  {
   "cell_type": "code",
   "execution_count": 12,
   "metadata": {
    "collapsed": false
   },
   "outputs": [
    {
     "name": "stdout",
     "output_type": "stream",
     "text": [
      "59\n"
     ]
    }
   ],
   "source": [
    "stations_df = pd.DataFrame.from_records(stations_rec)\n",
    "stations_df.set_index('siso_id', inplace=True, verify_integrity=True)\n",
    "stations_df.index.name = 'siso_id'\n",
    "print len(stations_df)"
   ]
  },
  {
   "cell_type": "code",
   "execution_count": 13,
   "metadata": {
    "collapsed": false
   },
   "outputs": [
    {
     "data": {
      "text/html": [
       "<div>\n",
       "<table border=\"1\" class=\"dataframe\">\n",
       "  <thead>\n",
       "    <tr style=\"text-align: right;\">\n",
       "      <th></th>\n",
       "      <th>lat</th>\n",
       "      <th>lon</th>\n",
       "      <th>name</th>\n",
       "      <th>platform_type</th>\n",
       "      <th>provider</th>\n",
       "    </tr>\n",
       "    <tr>\n",
       "      <th>siso_id</th>\n",
       "      <th></th>\n",
       "      <th></th>\n",
       "      <th></th>\n",
       "      <th></th>\n",
       "      <th></th>\n",
       "    </tr>\n",
       "  </thead>\n",
       "  <tbody>\n",
       "    <tr>\n",
       "      <th>CRBCZO_WCC019</th>\n",
       "      <td>39.8588</td>\n",
       "      <td>-75.7833</td>\n",
       "      <td>CRBCZO_WCC019</td>\n",
       "      <td>River Gauge</td>\n",
       "      <td>CRBCZO</td>\n",
       "    </tr>\n",
       "    <tr>\n",
       "      <th>DEOS_DAGF</th>\n",
       "      <td>39.6695</td>\n",
       "      <td>-75.7503</td>\n",
       "      <td>DEOS DAGF</td>\n",
       "      <td>Weather Station</td>\n",
       "      <td>DEOS</td>\n",
       "    </tr>\n",
       "    <tr>\n",
       "      <th>DEOS_DBKB</th>\n",
       "      <td>39.3953</td>\n",
       "      <td>-75.6317</td>\n",
       "      <td>DEOS DBKB</td>\n",
       "      <td>Weather Station</td>\n",
       "      <td>DEOS</td>\n",
       "    </tr>\n",
       "    <tr>\n",
       "      <th>DEOS_DBUK1</th>\n",
       "      <td>39.8200</td>\n",
       "      <td>-75.7272</td>\n",
       "      <td>DEOS DBUK1</td>\n",
       "      <td>Weather Station</td>\n",
       "      <td>DEOS</td>\n",
       "    </tr>\n",
       "    <tr>\n",
       "      <th>DEOS_DCHI</th>\n",
       "      <td>39.7328</td>\n",
       "      <td>-75.5184</td>\n",
       "      <td>DEOS DCHI</td>\n",
       "      <td>Weather Station</td>\n",
       "      <td>DEOS</td>\n",
       "    </tr>\n",
       "    <tr>\n",
       "      <th>DEOS_DCLY</th>\n",
       "      <td>39.8092</td>\n",
       "      <td>-75.4556</td>\n",
       "      <td>DEOS DCLY</td>\n",
       "      <td>Weather Station</td>\n",
       "      <td>DEOS</td>\n",
       "    </tr>\n",
       "    <tr>\n",
       "      <th>DEOS_DDMV</th>\n",
       "      <td>39.6758</td>\n",
       "      <td>-75.6303</td>\n",
       "      <td>DEOS DDMV</td>\n",
       "      <td>Weather Station</td>\n",
       "      <td>DEOS</td>\n",
       "    </tr>\n",
       "    <tr>\n",
       "      <th>DEOS_DFHM</th>\n",
       "      <td>39.7099</td>\n",
       "      <td>-75.8386</td>\n",
       "      <td>DEOS DFHM</td>\n",
       "      <td>Weather Station</td>\n",
       "      <td>DEOS</td>\n",
       "    </tr>\n",
       "    <tr>\n",
       "      <th>DEOS_DGLW</th>\n",
       "      <td>39.6059</td>\n",
       "      <td>-75.7269</td>\n",
       "      <td>DEOS DGLW</td>\n",
       "      <td>Weather Station</td>\n",
       "      <td>DEOS</td>\n",
       "    </tr>\n",
       "    <tr>\n",
       "      <th>DEOS_DGRN</th>\n",
       "      <td>39.8025</td>\n",
       "      <td>-75.6072</td>\n",
       "      <td>DEOS DGRN</td>\n",
       "      <td>Weather Station</td>\n",
       "      <td>DEOS</td>\n",
       "    </tr>\n",
       "  </tbody>\n",
       "</table>\n",
       "</div>"
      ],
      "text/plain": [
       "                   lat      lon           name    platform_type provider\n",
       "siso_id                                                                 \n",
       "CRBCZO_WCC019  39.8588 -75.7833  CRBCZO_WCC019      River Gauge   CRBCZO\n",
       "DEOS_DAGF      39.6695 -75.7503      DEOS DAGF  Weather Station     DEOS\n",
       "DEOS_DBKB      39.3953 -75.6317      DEOS DBKB  Weather Station     DEOS\n",
       "DEOS_DBUK1     39.8200 -75.7272     DEOS DBUK1  Weather Station     DEOS\n",
       "DEOS_DCHI      39.7328 -75.5184      DEOS DCHI  Weather Station     DEOS\n",
       "DEOS_DCLY      39.8092 -75.4556      DEOS DCLY  Weather Station     DEOS\n",
       "DEOS_DDMV      39.6758 -75.6303      DEOS DDMV  Weather Station     DEOS\n",
       "DEOS_DFHM      39.7099 -75.8386      DEOS DFHM  Weather Station     DEOS\n",
       "DEOS_DGLW      39.6059 -75.7269      DEOS DGLW  Weather Station     DEOS\n",
       "DEOS_DGRN      39.8025 -75.6072      DEOS DGRN  Weather Station     DEOS"
      ]
     },
     "execution_count": 13,
     "metadata": {},
     "output_type": "execute_result"
    }
   ],
   "source": [
    "stations_df.head(10)"
   ]
  },
  {
   "cell_type": "markdown",
   "metadata": {},
   "source": [
    "### Summaries (station counts) by *platform_type* and *provider*"
   ]
  },
  {
   "cell_type": "code",
   "execution_count": 14,
   "metadata": {
    "collapsed": false
   },
   "outputs": [
    {
     "data": {
      "text/plain": [
       "River Gauge             30\n",
       "Weather Station         19\n",
       "Fixed Shore Platform     6\n",
       "Well                     2\n",
       "Soil Pit                 2\n",
       "Name: platform_type, dtype: int64"
      ]
     },
     "execution_count": 14,
     "metadata": {},
     "output_type": "execute_result"
    }
   ],
   "source": [
    "stations_df.platform_type.value_counts()"
   ]
  },
  {
   "cell_type": "code",
   "execution_count": 15,
   "metadata": {
    "collapsed": false
   },
   "outputs": [
    {
     "data": {
      "text/plain": [
       "USGS          27\n",
       "DEOS          18\n",
       "CRBCZO         5\n",
       "NOS/CO-OPS     5\n",
       "SWRC           3\n",
       "USCRN          1\n",
       "Name: provider, dtype: int64"
      ]
     },
     "execution_count": 15,
     "metadata": {},
     "output_type": "execute_result"
    }
   ],
   "source": [
    "stations_df.provider.value_counts()"
   ]
  },
  {
   "cell_type": "markdown",
   "metadata": {},
   "source": [
    "## Request and examine one station"
   ]
  },
  {
   "cell_type": "code",
   "execution_count": 16,
   "metadata": {
    "collapsed": true
   },
   "outputs": [],
   "source": [
    "# USGS Schuylkill River at Philadelphia\n",
    "siso_id = 'USGS_01474500'"
   ]
  },
  {
   "cell_type": "markdown",
   "metadata": {},
   "source": [
    "### Meta info request"
   ]
  },
  {
   "cell_type": "code",
   "execution_count": 17,
   "metadata": {
    "collapsed": true
   },
   "outputs": [],
   "source": [
    "# (asset_id, a more generic descriptor for the unique id of any asset)\n",
    "meta_r = requests.get(vz_gai_url, params={'asset_type':'siso', 'opt':'meta', \n",
    "                                          'asset_id':siso_id})"
   ]
  },
  {
   "cell_type": "code",
   "execution_count": 18,
   "metadata": {
    "collapsed": true
   },
   "outputs": [],
   "source": [
    "# use [0] to pull out the dict from the single-element list\n",
    "metaresult = meta_r.json()['result'][0]  # ideally, should first test for success"
   ]
  },
  {
   "cell_type": "code",
   "execution_count": 19,
   "metadata": {
    "collapsed": false
   },
   "outputs": [
    {
     "data": {
      "text/plain": [
       "[(u'H1_Conductiv', u'-0.5m'),\n",
       " (u'H1_Discharge', u'0m'),\n",
       " (u'H1_Oxygen', u'-0.5m'),\n",
       " (u'H1_pH', u'-0.5m'),\n",
       " (u'A2_Rain', u'1m'),\n",
       " (u'H1_RiverStage', u'0m'),\n",
       " (u'H2_Turbidity', u'-0.5m'),\n",
       " (u'H1_WaterTemp', u'-0.5m')]"
      ]
     },
     "execution_count": 19,
     "metadata": {},
     "output_type": "execute_result"
    }
   ],
   "source": [
    "# var_id is the unique identifier for a \"measurement\" (or variable)\n",
    "[(d['var_id'], d['depth']) for d in metaresult['measurements']]"
   ]
  },
  {
   "cell_type": "code",
   "execution_count": 20,
   "metadata": {
    "collapsed": false
   },
   "outputs": [
    {
     "data": {
      "text/plain": [
       "u'USGS 01474500'"
      ]
     },
     "execution_count": 20,
     "metadata": {},
     "output_type": "execute_result"
    }
   ],
   "source": [
    "metaresult['name']"
   ]
  },
  {
   "cell_type": "markdown",
   "metadata": {},
   "source": [
    "### Data request"
   ]
  },
  {
   "cell_type": "code",
   "execution_count": 21,
   "metadata": {
    "collapsed": true
   },
   "outputs": [],
   "source": [
    "data_r = requests.get(vz_gai_url, params={'asset_type':'siso', 'opt':'data', 'units_mode': 'v1',\n",
    "                                          'asset_id':siso_id, 'var_id':'all'})\n",
    "data = data_r.json()"
   ]
  },
  {
   "cell_type": "code",
   "execution_count": 22,
   "metadata": {
    "collapsed": false
   },
   "outputs": [
    {
     "data": {
      "text/plain": [
       "(True, 8, [u'var_id', u'data'], 1825)"
      ]
     },
     "execution_count": 22,
     "metadata": {},
     "output_type": "execute_result"
    }
   ],
   "source": [
    "data['success'], len(data['result']), data['result'][0].keys(), len(data['result'][0]['data'])"
   ]
  },
  {
   "cell_type": "code",
   "execution_count": 23,
   "metadata": {
    "collapsed": false
   },
   "outputs": [
    {
     "data": {
      "text/plain": [
       "{u'A2_Rain': 0,\n",
       " u'H1_Conductiv': 1,\n",
       " u'H1_Discharge': 2,\n",
       " u'H1_Oxygen': 3,\n",
       " u'H1_RiverStage': 5,\n",
       " u'H1_WaterTemp': 6,\n",
       " u'H1_pH': 4,\n",
       " u'H2_Turbidity': 7}"
      ]
     },
     "execution_count": 23,
     "metadata": {},
     "output_type": "execute_result"
    }
   ],
   "source": [
    "# Mapping of var_id string to 'result' list element index\n",
    "var_ids = {e['var_id']:i for i,e in enumerate(data['result'])}\n",
    "var_ids"
   ]
  },
  {
   "cell_type": "code",
   "execution_count": 24,
   "metadata": {
    "collapsed": true
   },
   "outputs": [],
   "source": [
    "var_id = 'H1_Discharge'"
   ]
  },
  {
   "cell_type": "code",
   "execution_count": 25,
   "metadata": {
    "collapsed": false
   },
   "outputs": [
    {
     "data": {
      "text/plain": [
       "{u'depth': u'0m',\n",
       " u'name': u'Discharge',\n",
       " u'units': u'm\\xb3/s',\n",
       " u'var_id': u'H1_Discharge'}"
      ]
     },
     "execution_count": 25,
     "metadata": {},
     "output_type": "execute_result"
    }
   ],
   "source": [
    "get_measurement_byvarid(metaresult, var_id)"
   ]
  },
  {
   "cell_type": "code",
   "execution_count": 26,
   "metadata": {
    "collapsed": false
   },
   "outputs": [
    {
     "data": {
      "text/plain": [
       "[{u'depth': u'0m', u'time': 1446183000, u'value': 265.6095},\n",
       " {u'depth': u'0m', u'time': 1446184800, u'value': 272.4055},\n",
       " {u'depth': u'0m', u'time': 1446186600, u'value': 274.6708},\n",
       " {u'depth': u'0m', u'time': 1446188400, u'value': 277.2193},\n",
       " {u'depth': u'0m', u'time': 1446190200, u'value': 277.2193},\n",
       " {u'depth': u'0m', u'time': 1446192000, u'value': 277.2193},\n",
       " {u'depth': u'0m', u'time': 1446193800, u'value': 277.2193},\n",
       " {u'depth': u'0m', u'time': 1446195600, u'value': 274.6708},\n",
       " {u'depth': u'0m', u'time': 1446197400, u'value': 272.4055},\n",
       " {u'depth': u'0m', u'time': 1446199200, u'value': 270.1402}]"
      ]
     },
     "execution_count": 26,
     "metadata": {},
     "output_type": "execute_result"
    }
   ],
   "source": [
    "data['result'][var_ids[var_id]]['data'][-10:]"
   ]
  },
  {
   "cell_type": "code",
   "execution_count": 27,
   "metadata": {
    "collapsed": false
   },
   "outputs": [],
   "source": [
    "# Pull out data time series for one variable based on var_id\n",
    "# returns a list of dicts\n",
    "data_lst = data['result'][var_ids[var_id]]['data']"
   ]
  },
  {
   "cell_type": "code",
   "execution_count": 28,
   "metadata": {
    "collapsed": false
   },
   "outputs": [],
   "source": [
    "data_df = pd.DataFrame.from_records(data_lst)"
   ]
  },
  {
   "cell_type": "code",
   "execution_count": 29,
   "metadata": {
    "collapsed": false
   },
   "outputs": [
    {
     "data": {
      "text/html": [
       "<div>\n",
       "<table border=\"1\" class=\"dataframe\">\n",
       "  <thead>\n",
       "    <tr style=\"text-align: right;\">\n",
       "      <th></th>\n",
       "      <th>depth</th>\n",
       "      <th>time</th>\n",
       "      <th>value</th>\n",
       "    </tr>\n",
       "  </thead>\n",
       "  <tbody>\n",
       "    <tr>\n",
       "      <th>0</th>\n",
       "      <td>0m</td>\n",
       "      <td>1440831600</td>\n",
       "      <td>18.3491</td>\n",
       "    </tr>\n",
       "    <tr>\n",
       "      <th>1</th>\n",
       "      <td>0m</td>\n",
       "      <td>1440833400</td>\n",
       "      <td>17.6129</td>\n",
       "    </tr>\n",
       "    <tr>\n",
       "      <th>2</th>\n",
       "      <td>0m</td>\n",
       "      <td>1440835200</td>\n",
       "      <td>17.6129</td>\n",
       "    </tr>\n",
       "    <tr>\n",
       "      <th>3</th>\n",
       "      <td>0m</td>\n",
       "      <td>1440837000</td>\n",
       "      <td>17.6129</td>\n",
       "    </tr>\n",
       "    <tr>\n",
       "      <th>4</th>\n",
       "      <td>0m</td>\n",
       "      <td>1440838800</td>\n",
       "      <td>16.8767</td>\n",
       "    </tr>\n",
       "  </tbody>\n",
       "</table>\n",
       "</div>"
      ],
      "text/plain": [
       "  depth        time    value\n",
       "0    0m  1440831600  18.3491\n",
       "1    0m  1440833400  17.6129\n",
       "2    0m  1440835200  17.6129\n",
       "3    0m  1440837000  17.6129\n",
       "4    0m  1440838800  16.8767"
      ]
     },
     "execution_count": 29,
     "metadata": {},
     "output_type": "execute_result"
    }
   ],
   "source": [
    "data_df.head()"
   ]
  },
  {
   "cell_type": "markdown",
   "metadata": {},
   "source": [
    "Create `dtutc` column with parsed datetime. Also, it's safer to rename the \"value\" column to something unlikely to conflict with pandas method names."
   ]
  },
  {
   "cell_type": "code",
   "execution_count": 30,
   "metadata": {
    "collapsed": false
   },
   "outputs": [],
   "source": [
    "data_df['dtutc'] = data_df.time.map(lambda es: epochsec_to_dt(es))\n",
    "data_df.set_index('dtutc', inplace=True, verify_integrity=True)\n",
    "data_df.index.name = 'dtutc'\n",
    "data_df = data_df.rename(columns={'value':var_id})"
   ]
  },
  {
   "cell_type": "code",
   "execution_count": 31,
   "metadata": {
    "collapsed": false
   },
   "outputs": [
    {
     "name": "stdout",
     "output_type": "stream",
     "text": [
      "<class 'pandas.core.frame.DataFrame'>\n",
      "DatetimeIndex: 1825 entries, 2015-08-29 07:00:00+00:00 to 2015-10-30 10:00:00+00:00\n",
      "Data columns (total 3 columns):\n",
      "depth           1825 non-null object\n",
      "time            1825 non-null int64\n",
      "H1_Discharge    1825 non-null float64\n",
      "dtypes: float64(1), int64(1), object(1)\n",
      "memory usage: 57.0+ KB\n"
     ]
    }
   ],
   "source": [
    "data_df.info()"
   ]
  },
  {
   "cell_type": "code",
   "execution_count": 32,
   "metadata": {
    "collapsed": false
   },
   "outputs": [
    {
     "data": {
      "text/html": [
       "<div>\n",
       "<table border=\"1\" class=\"dataframe\">\n",
       "  <thead>\n",
       "    <tr style=\"text-align: right;\">\n",
       "      <th></th>\n",
       "      <th>depth</th>\n",
       "      <th>time</th>\n",
       "      <th>H1_Discharge</th>\n",
       "    </tr>\n",
       "    <tr>\n",
       "      <th>dtutc</th>\n",
       "      <th></th>\n",
       "      <th></th>\n",
       "      <th></th>\n",
       "    </tr>\n",
       "  </thead>\n",
       "  <tbody>\n",
       "    <tr>\n",
       "      <th>2015-08-29 07:00:00+00:00</th>\n",
       "      <td>0m</td>\n",
       "      <td>1440831600</td>\n",
       "      <td>18.3491</td>\n",
       "    </tr>\n",
       "    <tr>\n",
       "      <th>2015-08-29 07:30:00+00:00</th>\n",
       "      <td>0m</td>\n",
       "      <td>1440833400</td>\n",
       "      <td>17.6129</td>\n",
       "    </tr>\n",
       "    <tr>\n",
       "      <th>2015-08-29 08:00:00+00:00</th>\n",
       "      <td>0m</td>\n",
       "      <td>1440835200</td>\n",
       "      <td>17.6129</td>\n",
       "    </tr>\n",
       "    <tr>\n",
       "      <th>2015-08-29 08:30:00+00:00</th>\n",
       "      <td>0m</td>\n",
       "      <td>1440837000</td>\n",
       "      <td>17.6129</td>\n",
       "    </tr>\n",
       "    <tr>\n",
       "      <th>2015-08-29 09:00:00+00:00</th>\n",
       "      <td>0m</td>\n",
       "      <td>1440838800</td>\n",
       "      <td>16.8767</td>\n",
       "    </tr>\n",
       "  </tbody>\n",
       "</table>\n",
       "</div>"
      ],
      "text/plain": [
       "                          depth        time  H1_Discharge\n",
       "dtutc                                                    \n",
       "2015-08-29 07:00:00+00:00    0m  1440831600       18.3491\n",
       "2015-08-29 07:30:00+00:00    0m  1440833400       17.6129\n",
       "2015-08-29 08:00:00+00:00    0m  1440835200       17.6129\n",
       "2015-08-29 08:30:00+00:00    0m  1440837000       17.6129\n",
       "2015-08-29 09:00:00+00:00    0m  1440838800       16.8767"
      ]
     },
     "execution_count": 32,
     "metadata": {},
     "output_type": "execute_result"
    }
   ],
   "source": [
    "data_df.head()"
   ]
  },
  {
   "cell_type": "code",
   "execution_count": 33,
   "metadata": {
    "collapsed": false
   },
   "outputs": [
    {
     "data": {
      "text/html": [
       "<div>\n",
       "<table border=\"1\" class=\"dataframe\">\n",
       "  <thead>\n",
       "    <tr style=\"text-align: right;\">\n",
       "      <th></th>\n",
       "      <th>time</th>\n",
       "      <th>H1_Discharge</th>\n",
       "    </tr>\n",
       "  </thead>\n",
       "  <tbody>\n",
       "    <tr>\n",
       "      <th>count</th>\n",
       "      <td>1.825000e+03</td>\n",
       "      <td>1825.000000</td>\n",
       "    </tr>\n",
       "    <tr>\n",
       "      <th>mean</th>\n",
       "      <td>1.443738e+09</td>\n",
       "      <td>37.350980</td>\n",
       "    </tr>\n",
       "    <tr>\n",
       "      <th>std</th>\n",
       "      <td>1.815587e+06</td>\n",
       "      <td>35.249309</td>\n",
       "    </tr>\n",
       "    <tr>\n",
       "      <th>min</th>\n",
       "      <td>1.440832e+09</td>\n",
       "      <td>11.921300</td>\n",
       "    </tr>\n",
       "    <tr>\n",
       "      <th>25%</th>\n",
       "      <td>1.441726e+09</td>\n",
       "      <td>17.612900</td>\n",
       "    </tr>\n",
       "    <tr>\n",
       "      <th>50%</th>\n",
       "      <td>1.444410e+09</td>\n",
       "      <td>25.088500</td>\n",
       "    </tr>\n",
       "    <tr>\n",
       "      <th>75%</th>\n",
       "      <td>1.445305e+09</td>\n",
       "      <td>37.944200</td>\n",
       "    </tr>\n",
       "    <tr>\n",
       "      <th>max</th>\n",
       "      <td>1.446199e+09</td>\n",
       "      <td>277.219300</td>\n",
       "    </tr>\n",
       "  </tbody>\n",
       "</table>\n",
       "</div>"
      ],
      "text/plain": [
       "               time  H1_Discharge\n",
       "count  1.825000e+03   1825.000000\n",
       "mean   1.443738e+09     37.350980\n",
       "std    1.815587e+06     35.249309\n",
       "min    1.440832e+09     11.921300\n",
       "25%    1.441726e+09     17.612900\n",
       "50%    1.444410e+09     25.088500\n",
       "75%    1.445305e+09     37.944200\n",
       "max    1.446199e+09    277.219300"
      ]
     },
     "execution_count": 33,
     "metadata": {},
     "output_type": "execute_result"
    }
   ],
   "source": [
    "data_df.describe()"
   ]
  },
  {
   "cell_type": "code",
   "execution_count": 34,
   "metadata": {
    "collapsed": false
   },
   "outputs": [
    {
     "data": {
      "image/png": "[encoded data removed]",
      "text/plain": [
       "<matplotlib.figure.Figure at 0x7fa4dc64ae50>"
      ]
     },
     "metadata": {},
     "output_type": "display_data"
    }
   ],
   "source": [
    "var_info = get_measurement_byvarid(metaresult, var_id)\n",
    "title = \"%s (%s) at %s\" % (var_info['name'], var_id, metaresult['name'])\n",
    "data_df[var_id].plot(title=title, figsize=[11,5])\n",
    "plt.ylabel(var_info['units']);"
   ]
  }
 ],
 "metadata": {
  "kernelspec": {
   "display_name": "Python 2",
   "language": "python",
   "name": "python2"
  },
  "language_info": {
   "codemirror_mode": {
    "name": "ipython",
    "version": 2
   },
   "file_extension": ".py",
   "mimetype": "text/x-python",
   "name": "python",
   "nbconvert_exporter": "python",
   "pygments_lexer": "ipython2",
   "version": "2.7.10"
  }
 },
 "nbformat": 4,
 "nbformat_minor": 0
}
